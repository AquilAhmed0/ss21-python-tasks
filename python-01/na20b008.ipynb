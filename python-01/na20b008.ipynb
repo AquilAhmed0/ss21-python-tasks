{
 "cells": [
  {
   "cell_type": "code",
   "execution_count": null,
   "id": "25a786af-1155-4afb-93e3-edbc927e1975",
   "metadata": {
    "jupyter": {
     "source_hidden": true
    },
    "tags": []
   },
   "outputs": [],
   "source": [
    "\n"
   ]
  },
  {
   "cell_type": "markdown",
   "id": "598e6ff0-3e85-4d05-973d-e1336b20cf56",
   "metadata": {},
   "source": [
    "# Module 1.2 - **Python** Part 1 Task"
   ]
  },
  {
   "cell_type": "markdown",
   "id": "5e1e2835-3f78-4a20-a8e8-0d5b1b05b6f9",
   "metadata": {
    "tags": []
   },
   "source": [
    "x-special/nautilus-clipboard\n",
    "copy\n",
    "file:///home/aquil/ss21-python-tasks/template/template.ipynb\n",
    "x-special/nautilus-clipboard\n",
    "copy\n",
    "file:///home/aquil/ss21-python-tasks/template/template.ipynb\n",
    "## Problem 1 **Solution**"
   ]
  },
  {
   "cell_type": "code",
   "execution_count": 11,
   "id": "bfb682cd-c7c3-4c24-a4c1-b93b1ab0ee82",
   "metadata": {
    "tags": []
   },
   "outputs": [],
   "source": [
    "def lagrange_polynomial(data,xvalue):\n",
    "    \n",
    "    a = 0\n",
    "    for points in data:\n",
    "        a +=1\n",
    "    \n",
    "    x = [1]*a\n",
    "    y = [1]*a\n",
    "\n",
    "    b = 0\n",
    "    for point in data:\n",
    "        x[b] = point[0]\n",
    "        y[b] = point[1]\n",
    "        m +=1\n",
    "    \n",
    "    yvalue = 0\n",
    "    for i in range (b):\n",
    "        z=1\n",
    "    for j in range (b):\n",
    "        if i!=j:\n",
    "            z= z*(xvalue-x[j])/(x[i]-x[j])\n",
    "        \n",
    "    yvalue = yvalue+ z[y]*i\n",
    "    \n",
    "    return yvalue\n",
    " "
   ]
  },
  {
   "cell_type": "markdown",
   "id": "73a2765d-7d3a-48e9-a20e-f3c2d1aa8204",
   "metadata": {},
   "source": [
    "## Problem 2 **Solution**"
   ]
  },
  {
   "cell_type": "code",
   "execution_count": null,
   "id": "de228460-25a0-4dd7-be16-7f5d6e5121c8",
   "metadata": {
    "jupyter": {
     "source_hidden": true
    },
    "tags": []
   },
   "outputs": [],
   "source": []
  },
  {
   "cell_type": "code",
   "execution_count": 12,
   "id": "a4db7832-1e19-49fc-8fdd-c49d73b045ae",
   "metadata": {},
   "outputs": [],
   "source": [
    "def inv_rotn_encrypt(message,shift):\n",
    "    \n",
    "    encrypt_lst = []\n",
    "    message_lst = [char for char in message]\n",
    "    abcd = [chr(i) for i in range(ord('a'),ord('z')+1)]\n",
    "    ABCD = [chr(i) for i in range(ord('A'),ord('Z')+1)]\n",
    "    for n in message_lst:\n",
    "        if n in abcd:\n",
    "            encrypt_lst.append(abcd[abcd.index(n)+shift])\n",
    "        elif n in ABCD:\n",
    "            encrypt_lst.append(ABCD[ABCD.index(n)+shift])\n",
    "        else:\n",
    "            encrypt_lst.append(n)\n",
    "            \n",
    "    m = ''\n",
    "    for i in encrypt_lst[::-1]:\n",
    "        m += i\n",
    "    \n",
    "    return m\n",
    "\n",
    "\n",
    "\n",
    "\n",
    "def inv_rotn_decrypt(message,shift):\n",
    "    \n",
    "    encryp_lst = []\n",
    "    message_lst = [char for char in message]\n",
    "    abcd = [chr(i) for i in range(ord('a'),ord('z')+1)]\n",
    "    ABCD = [chr(i) for i in range(ord('A'),ord('Z')+1)]\n",
    "    for n in message_lst:\n",
    "        if n in abcd:\n",
    "            encrypt_lst.append(abcd[abcd.index(n)-shift])\n",
    "        elif n in ABCD:\n",
    "            encrypt_lst.append(ABCD[ABCD.index(n)-shift])\n",
    "        else:\n",
    "            encrypt_lst.append(n)\n",
    "            \n",
    "    m = ''\n",
    "    for i in encrypt_lst[::-1]:\n",
    "        m += i\n",
    "     \n",
    "    return m\n",
    "\n",
    "\n",
    "\n",
    "\n",
    "\n",
    "\n",
    "        \n",
    "\n",
    "\n",
    "\n",
    "    \n",
    "        \n",
    "    "
   ]
  }
 ],
 "metadata": {
  "kernelspec": {
   "display_name": "Python 3 (ipykernel)",
   "language": "python",
   "name": "python3"
  },
  "language_info": {
   "codemirror_mode": {
    "name": "ipython",
    "version": 3
   },
   "file_extension": ".py",
   "mimetype": "text/x-python",
   "name": "python",
   "nbconvert_exporter": "python",
   "pygments_lexer": "ipython3",
   "version": "3.8.10"
  }
 },
 "nbformat": 4,
 "nbformat_minor": 5
}
